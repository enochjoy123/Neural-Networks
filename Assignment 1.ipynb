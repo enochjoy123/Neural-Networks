{
 "cells": [
  {
   "cell_type": "code",
   "execution_count": 28,
   "id": "b0fa072e-d5fe-4aab-8d4d-d099f416ffa3",
   "metadata": {
    "tags": []
   },
   "outputs": [
    {
     "name": "stdin",
     "output_type": "stream",
     "text": [
      "Enter a string:  Python\n"
     ]
    },
    {
     "name": "stdout",
     "output_type": "stream",
     "text": [
      "htyP\n"
     ]
    }
   ],
   "source": [
    "import random\n",
    "\n",
    "def modify_and_reverse_string(s): # Converting the string to a list of characters\n",
    "    \n",
    "    char_list = list(s)\n",
    "\n",
    "    # Randomly selecting two unique indices to remove characters\n",
    "    if len(char_list) > 2:\n",
    "        indices_to_remove = random.sample(range(len(char_list)), 2)\n",
    "    else:\n",
    "        print(\"String is too short to remove two characters.\")\n",
    "        return \"\"\n",
    "\n",
    "    # Removing the selected characters\n",
    "    for index in sorted(indices_to_remove, reverse=True):\n",
    "        char_list.pop(index)\n",
    "\n",
    "    # Reversing and joining the characters back into a string\n",
    "    return ''.join(char_list[::-1])\n",
    "\n",
    "# Taking input from the user\n",
    "input_string = input(\"Enter a string: \")\n",
    "\n",
    "# Processing and printing the result\n",
    "print(modify_and_reverse_string(input_string))\n"
   ]
  },
  {
   "cell_type": "code",
   "execution_count": 20,
   "id": "d56f7167-683b-4a1d-b42c-62f3f89dfa96",
   "metadata": {
    "tags": []
   },
   "outputs": [
    {
     "name": "stdin",
     "output_type": "stream",
     "text": [
      "Enter the first number:  3\n",
      "Enter the second number:  5\n"
     ]
    },
    {
     "name": "stdout",
     "output_type": "stream",
     "text": [
      "Addition: 3.0 + 5.0 = 8.0\n",
      "Subtraction: 3.0 - 5.0 = -2.0\n",
      "Multiplication: 3.0 * 5.0 = 15.0\n",
      "Division: 3.0 / 5.0 = 0.6\n"
     ]
    }
   ],
   "source": [
    "# Function to perform arithmetic operations\n",
    "def perform_arithmetic_operations(a, b):\n",
    "    print(f\"Addition: {a} + {b} = {a + b}\")\n",
    "    print(f\"Subtraction: {a} - {b} = {a - b}\")\n",
    "    print(f\"Multiplication: {a} * {b} = {a * b}\")\n",
    "    print(f\"Division: {a} / {b} = {a / b}\" if b != 0 else \"Division by zero is not allowed\")\n",
    "\n",
    "# Taking input from the user\n",
    "num1 = float(input(\"Enter the first number: \"))\n",
    "num2 = float(input(\"Enter the second number: \"))\n",
    "\n",
    "# Performing the operations\n",
    "perform_arithmetic_operations(num1, num2)\n"
   ]
  },
  {
   "cell_type": "code",
   "execution_count": 29,
   "id": "ddd00db4-78b9-41d2-8021-5048d8785d74",
   "metadata": {
    "tags": []
   },
   "outputs": [
    {
     "name": "stdin",
     "output_type": "stream",
     "text": [
      "Enter a sentence:  I love Python\n"
     ]
    },
    {
     "name": "stdout",
     "output_type": "stream",
     "text": [
      "I love Pythons\n"
     ]
    }
   ],
   "source": [
    "def replace_word_insensitive(sentence):\n",
    "    words = sentence.split()  # Splitting the sentence into words\n",
    "    replaced_words = []\n",
    "\n",
    "    for word in words:\n",
    "        # Check if 'python' is in the word regardless of case\n",
    "        if 'python' in word.lower():\n",
    "            # Replace 'python' with 'pythons' while maintaining the original case\n",
    "            replaced_word = word.lower().replace('python', 'pythons')\n",
    "            # Recreate the original casing\n",
    "            if word.isupper():\n",
    "                replaced_word = replaced_word.upper()\n",
    "            elif word.istitle():\n",
    "                replaced_word = replaced_word.title()\n",
    "            replaced_words.append(replaced_word)\n",
    "        else:\n",
    "            replaced_words.append(word)\n",
    "\n",
    "    # Joining the words back into a sentence\n",
    "    return ' '.join(replaced_words)\n",
    "\n",
    "# Taking input from the user\n",
    "input_sentence = input(\"Enter a sentence: \")\n",
    "\n",
    "# Processing and printing the result\n",
    "print(replace_word_insensitive(input_sentence))\n"
   ]
  },
  {
   "cell_type": "code",
   "execution_count": 27,
   "id": "0a4ba400-9afc-40f4-8053-27851167bbdd",
   "metadata": {
    "tags": []
   },
   "outputs": [
    {
     "name": "stdin",
     "output_type": "stream",
     "text": [
      "Enter the class score percentage:  30\n"
     ]
    },
    {
     "name": "stdout",
     "output_type": "stream",
     "text": [
      "The letter grade is: F\n"
     ]
    }
   ],
   "source": [
    "def determine_grade(score):\n",
    "    if 90 <= score <= 100:\n",
    "        return 'A'\n",
    "    elif 80 <= score < 90:\n",
    "        return 'B'\n",
    "    elif 70 <= score < 80:\n",
    "        return 'C'\n",
    "    elif 60 <= score < 70:\n",
    "        return 'D'\n",
    "    elif 0 <= score < 60:\n",
    "        return 'F'\n",
    "    else:\n",
    "        return 'Invalid score'\n",
    "\n",
    "# Taking input from the user\n",
    "input_score = float(input(\"Enter the class score percentage: \"))\n",
    "\n",
    "# Determining and printing the grade\n",
    "print(\"The letter grade is:\", determine_grade(input_score))\n"
   ]
  },
  {
   "cell_type": "code",
   "execution_count": null,
   "id": "aa112114-de02-4df8-8457-4169cb74ed14",
   "metadata": {},
   "outputs": [],
   "source": []
  }
 ],
 "metadata": {
  "kernelspec": {
   "display_name": "Python 3 (ipykernel)",
   "language": "python",
   "name": "python3"
  },
  "language_info": {
   "codemirror_mode": {
    "name": "ipython",
    "version": 3
   },
   "file_extension": ".py",
   "mimetype": "text/x-python",
   "name": "python",
   "nbconvert_exporter": "python",
   "pygments_lexer": "ipython3",
   "version": "3.11.4"
  }
 },
 "nbformat": 4,
 "nbformat_minor": 5
}
